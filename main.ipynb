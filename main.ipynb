{
 "cells": [
  {
   "cell_type": "code",
   "execution_count": null,
   "metadata": {},
   "outputs": [],
   "source": [
    "import os   \n",
    "from dotenv                     import  load_dotenv\n",
    "from monstry.BuilderManager     import  BuilderManager\n",
    "from monstry.DataCleaner        import  DataCleaner\n",
    "\n",
    "load_dotenv()"
   ]
  },
  {
   "cell_type": "code",
   "execution_count": null,
   "metadata": {},
   "outputs": [],
   "source": [
    "\n",
    "CONFIG_PATH     =   \"./athena_config/config.json\"\n",
    "NOMBRE_TABLA    =   os.getenv(\"NOMBRE_TABLA\")\n",
    "OUTPUT_DIR      =   os.getenv(\"OUTPUT_DIR\") "
   ]
  },
  {
   "cell_type": "code",
   "execution_count": null,
   "metadata": {},
   "outputs": [],
   "source": [
    "def main():\n",
    "    builder         =   BuilderManager( \n",
    "    config_path =   CONFIG_PATH\n",
    "    )\n",
    "    \n",
    "    cleaner         =       DataCleaner(\n",
    "    builder     =       builder.build() ,\n",
    "    nombre_tabla=       NOMBRE_TABLA\n",
    "    )\n",
    "    \n",
    "    cleaner.get_agg_resumen()\n",
    "    \n",
    "    cleaner.to_csv_resumen_table(\n",
    "    output_dir  =   OUTPUT_DIR\n",
    "    )\n",
    "\n",
    "    return cleaner\n",
    "    \n",
    "    "
   ]
  },
  {
   "cell_type": "code",
   "execution_count": null,
   "metadata": {},
   "outputs": [],
   "source": [
    "cleaner = main()"
   ]
  },
  {
   "cell_type": "code",
   "execution_count": null,
   "metadata": {},
   "outputs": [],
   "source": [
    "# builder         =   BuilderManager( \n",
    "#     config_path =   CONFIG_PATH\n",
    "# )"
   ]
  },
  {
   "cell_type": "code",
   "execution_count": null,
   "metadata": {},
   "outputs": [],
   "source": [
    "# cleaner         =       DataCleaner(\n",
    "#     builder     =       builder.build() ,\n",
    "#     nombre_tabla=       NOMBRE_TABLA\n",
    "# )"
   ]
  },
  {
   "cell_type": "code",
   "execution_count": null,
   "metadata": {},
   "outputs": [],
   "source": [
    "cleaner.get_agg_resumen(completitud_lte=55)"
   ]
  },
  {
   "cell_type": "code",
   "execution_count": null,
   "metadata": {},
   "outputs": [],
   "source": [
    "cleaner.get_agg_completitud()               "
   ]
  },
  {
   "cell_type": "code",
   "execution_count": null,
   "metadata": {},
   "outputs": [],
   "source": [
    "cleaner.criterio_minimos_agg(criterio_gte=20)"
   ]
  },
  {
   "cell_type": "code",
   "execution_count": null,
   "metadata": {},
   "outputs": [],
   "source": [
    "cleaner.get_agg_exactitud(gte=50)"
   ]
  },
  {
   "cell_type": "code",
   "execution_count": null,
   "metadata": {},
   "outputs": [],
   "source": [
    "# cleaner.to_csv_resumen_table(\n",
    "#     output_dir  =   os.getenv(\"OUTPUT_DIR\") \n",
    "# )\n",
    "\n"
   ]
  }
 ],
 "metadata": {
  "kernelspec": {
   "display_name": "venv",
   "language": "python",
   "name": "python3"
  },
  "language_info": {
   "codemirror_mode": {
    "name": "ipython",
    "version": 3
   },
   "file_extension": ".py",
   "mimetype": "text/x-python",
   "name": "python",
   "nbconvert_exporter": "python",
   "pygments_lexer": "ipython3",
   "version": "3.10.12"
  },
  "orig_nbformat": 4
 },
 "nbformat": 4,
 "nbformat_minor": 2
}
